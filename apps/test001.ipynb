{
 "cells": [
  {
   "cell_type": "code",
   "execution_count": 4,
   "metadata": {},
   "outputs": [
    {
     "name": "stderr",
     "output_type": "stream",
     "text": [
      "usage: ipykernel_launcher.py [-h] [-q QUESTION]\n",
      "ipykernel_launcher.py: error: unrecognized arguments: --ip=127.0.0.1 --stdin=9036 --control=9034 --hb=9033 --Session.signature_scheme=\"hmac-sha256\" --Session.key=b\"1069faf7-a86f-4df0-aa0e-aff133580ad1\" --shell=9035 --transport=\"tcp\" --iopub=9037 --f=/Users/collin/Library/Jupyter/runtime/kernel-v2-23800p8N7n57JYStr.json\n"
     ]
    },
    {
     "ename": "SystemExit",
     "evalue": "2",
     "output_type": "error",
     "traceback": [
      "An exception has occurred, use %tb to see the full traceback.\n",
      "\u001b[0;31mSystemExit\u001b[0m\u001b[0;31m:\u001b[0m 2\n"
     ]
    }
   ],
   "source": [
    "import torch\n",
    "from transformers import AutoTokenizer, AutoModelForCausalLM, pipeline\n",
    "import argparse\n",
    "\n",
    "def generate_prompt(question, prompt_file=\"prompt.md\", metadata_file=\"metadata.sql\"):\n",
    "    with open(prompt_file, \"r\") as f:\n",
    "        prompt = f.read()\n",
    "    \n",
    "    with open(metadata_file, \"r\") as f:\n",
    "        table_metadata_string = f.read()\n",
    "\n",
    "    prompt = prompt.format(\n",
    "        user_question=question, table_metadata_string=table_metadata_string\n",
    "    )\n",
    "    return prompt\n",
    "\n",
    "\n",
    "def get_tokenizer_model(model_name):\n",
    "    tokenizer = AutoTokenizer.from_pretrained(model_name)\n",
    "    model = AutoModelForCausalLM.from_pretrained(\n",
    "        model_name,\n",
    "        trust_remote_code=True,\n",
    "        torch_dtype=torch.float16,\n",
    "        device_map=\"auto\",\n",
    "        use_cache=True,\n",
    "    )\n",
    "    return tokenizer, model\n",
    "\n",
    "def run_inference(question, prompt_file=\"prompt.md\", metadata_file=\"metadata.sql\"):\n",
    "    tokenizer, model = get_tokenizer_model(\"defog/sqlcoder2\")\n",
    "    prompt = generate_prompt(question, prompt_file, metadata_file)\n",
    "    \n",
    "    # make sure the model stops generating at triple ticks\n",
    "    # eos_token_id = tokenizer.convert_tokens_to_ids([\"```\"])[0]\n",
    "    eos_token_id = tokenizer.eos_token_id\n",
    "    pipe = pipeline(\n",
    "        \"text-generation\",\n",
    "        model=model,\n",
    "        tokenizer=tokenizer,\n",
    "        max_new_tokens=300,\n",
    "        do_sample=False,\n",
    "        num_beams=5, # do beam search with 5 beams for high quality results\n",
    "    )\n",
    "    generated_query = (\n",
    "        pipe(\n",
    "            prompt,\n",
    "            num_return_sequences=1,\n",
    "            eos_token_id=eos_token_id,\n",
    "            pad_token_id=eos_token_id,\n",
    "        )[0][\"generated_text\"]\n",
    "        .split(\"```sql\")[-1]\n",
    "        .split(\"```\")[0]\n",
    "        .split(\";\")[0]\n",
    "        .strip()\n",
    "        + \";\"\n",
    "    )\n",
    "    return generated_query\n",
    "\n",
    "if __name__ == \"__main__\":\n",
    "    # Parse arguments\n",
    "    parser = argparse.ArgumentParser(description=\"Run inference on a question\")\n",
    "    parser.add_argument(\"-q\",\"--question\", type=str, help=\"Question to run inference on\")\n",
    "    args = parser.parse_args()\n",
    "    question = args.question\n",
    "    print(\"Loading a model and generating a SQL query for answering your question...\")\n",
    "    print(run_inference(question))"
   ]
  },
  {
   "cell_type": "code",
   "execution_count": 5,
   "metadata": {},
   "outputs": [
    {
     "name": "stdout",
     "output_type": "stream",
     "text": [
      "Collecting accelerate\n",
      "  Downloading accelerate-0.24.1-py3-none-any.whl (261 kB)\n",
      "\u001b[2K     \u001b[90m━━━━━━━━━━━━━━━━━━━━━━━━━━━━━━━━━━━━━\u001b[0m \u001b[32m261.4/261.4 kB\u001b[0m \u001b[31m609.5 kB/s\u001b[0m eta \u001b[36m0:00:00\u001b[0ma \u001b[36m0:00:01\u001b[0m\n",
      "\u001b[?25hRequirement already satisfied: numpy>=1.17 in /Users/collin/miniconda3/envs/yolo7/lib/python3.9/site-packages (from accelerate) (1.23.5)\n",
      "Requirement already satisfied: huggingface-hub in /Users/collin/miniconda3/envs/yolo7/lib/python3.9/site-packages (from accelerate) (0.17.3)\n",
      "Requirement already satisfied: psutil in /Users/collin/miniconda3/envs/yolo7/lib/python3.9/site-packages (from accelerate) (5.9.4)\n",
      "Requirement already satisfied: packaging>=20.0 in /Users/collin/miniconda3/envs/yolo7/lib/python3.9/site-packages (from accelerate) (23.0)\n",
      "Requirement already satisfied: pyyaml in /Users/collin/miniconda3/envs/yolo7/lib/python3.9/site-packages (from accelerate) (6.0)\n",
      "Requirement already satisfied: torch>=1.10.0 in /Users/collin/miniconda3/envs/yolo7/lib/python3.9/site-packages (from accelerate) (1.13.1)\n",
      "Requirement already satisfied: typing-extensions in /Users/collin/miniconda3/envs/yolo7/lib/python3.9/site-packages (from torch>=1.10.0->accelerate) (4.4.0)\n",
      "Requirement already satisfied: requests in /Users/collin/miniconda3/envs/yolo7/lib/python3.9/site-packages (from huggingface-hub->accelerate) (2.28.2)\n",
      "Requirement already satisfied: filelock in /Users/collin/miniconda3/envs/yolo7/lib/python3.9/site-packages (from huggingface-hub->accelerate) (3.13.1)\n",
      "Requirement already satisfied: fsspec in /Users/collin/miniconda3/envs/yolo7/lib/python3.9/site-packages (from huggingface-hub->accelerate) (2023.10.0)\n",
      "Requirement already satisfied: tqdm>=4.42.1 in /Users/collin/miniconda3/envs/yolo7/lib/python3.9/site-packages (from huggingface-hub->accelerate) (4.64.1)\n",
      "Requirement already satisfied: idna<4,>=2.5 in /Users/collin/miniconda3/envs/yolo7/lib/python3.9/site-packages (from requests->huggingface-hub->accelerate) (3.4)\n",
      "Requirement already satisfied: urllib3<1.27,>=1.21.1 in /Users/collin/miniconda3/envs/yolo7/lib/python3.9/site-packages (from requests->huggingface-hub->accelerate) (1.26.14)\n",
      "Requirement already satisfied: certifi>=2017.4.17 in /Users/collin/miniconda3/envs/yolo7/lib/python3.9/site-packages (from requests->huggingface-hub->accelerate) (2022.12.7)\n",
      "Requirement already satisfied: charset-normalizer<4,>=2 in /Users/collin/miniconda3/envs/yolo7/lib/python3.9/site-packages (from requests->huggingface-hub->accelerate) (3.0.1)\n",
      "Installing collected packages: accelerate\n",
      "Successfully installed accelerate-0.24.1\n"
     ]
    }
   ],
   "source": [
    "!pip install accelerate"
   ]
  }
 ],
 "metadata": {
  "kernelspec": {
   "display_name": "llm",
   "language": "python",
   "name": "python3"
  },
  "language_info": {
   "codemirror_mode": {
    "name": "ipython",
    "version": 3
   },
   "file_extension": ".py",
   "mimetype": "text/x-python",
   "name": "python",
   "nbconvert_exporter": "python",
   "pygments_lexer": "ipython3",
   "version": "3.9.16"
  }
 },
 "nbformat": 4,
 "nbformat_minor": 2
}
